{
 "cells": [
  {
   "cell_type": "code",
   "execution_count": 4,
   "id": "8eea85ed-b0f6-49c0-8b5c-cffd85bf9172",
   "metadata": {},
   "outputs": [
    {
     "name": "stdout",
     "output_type": "stream",
     "text": [
      "Частка пропусків в кожній колонці:\n",
      "Рік                                           0.0\n",
      "В національній валюті                         0.0\n",
      "В доларах США                                 0.0\n",
      "Кількість кг хліба[20] на середню зарплату    0.0\n",
      "Кількість БігМаків на середню зарплату        0.0\n",
      "dtype: float64\n"
     ]
    }
   ],
   "source": [
    "#Порахуйте частку пропусків в кожній колонці (за допомогою методів isnull , sum, len) \n",
    "import pandas as pd\n",
    "import pandas as pd\n",
    "url = \"https://uk.wikipedia.org/wiki/%D0%A1%D0%B5%D1%80%D0%B5%D0%B4%D0%BD%D1%8F_%D0%B7%D0%B0%D1%80%D0%BE%D0%B1%D1%96%D1%82%D0%BD%D0%B0_%D0%BF%D0%BB%D0%B0%D1%82%D0%B0_%D0%B2_%D0%A3%D0%BA%D1%80%D0%B0%D1%97%D0%BD%D1%96#%D0%A1%D0%B5%D1%80%D0%B5%D0%B4%D0%BD%D1%8C%D0%BE%D1%80%D1%96%D1%87%D0%BD%D0%B0_%D1%89%D0%BE%D0%BC%D1%96%D1%81%D1%8F%D1%87%D0%BD%D0%B0_%D0%B7%D0%B0%D1%80%D0%BF%D0%BB%D0%B0%D1%82%D0%B0_%D0%B2_%D0%A3%D0%BA%D1%80%D0%B0%D1%97%D0%BD%D1%96_%D0%B7%D0%B0_1992%E2%80%942022_%D1%80%D0%BE%D0%BA%D0%B8\"\n",
    "tables = pd.read_html(url, header=0, flavor='bs4')\n",
    "data = tables[2]\n",
    "missing_percentage = data.isnull().sum() / len(data) * 100\n",
    "print(\"Частка пропусків в кожній колонці:\")\n",
    "print(missing_percentage)\n",
    "\n"
   ]
  },
  {
   "cell_type": "code",
   "execution_count": null,
   "id": "40edc7d9-e7a8-41dd-96dd-b527fba479b5",
   "metadata": {},
   "outputs": [],
   "source": []
  },
  {
   "cell_type": "code",
   "execution_count": null,
   "id": "df6367b9-0abd-4f85-8786-b8d3db18369b",
   "metadata": {},
   "outputs": [],
   "source": []
  }
 ],
 "metadata": {
  "kernelspec": {
   "display_name": "Python 3 (ipykernel)",
   "language": "python",
   "name": "python3"
  },
  "language_info": {
   "codemirror_mode": {
    "name": "ipython",
    "version": 3
   },
   "file_extension": ".py",
   "mimetype": "text/x-python",
   "name": "python",
   "nbconvert_exporter": "python",
   "pygments_lexer": "ipython3",
   "version": "3.12.0"
  }
 },
 "nbformat": 4,
 "nbformat_minor": 5
}
